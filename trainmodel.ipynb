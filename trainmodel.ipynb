{
 "cells": [
  {
   "cell_type": "code",
   "execution_count": 2,
   "metadata": {},
   "outputs": [
    {
     "data": {
      "text/plain": [
       "(63, 5)"
      ]
     },
     "execution_count": 2,
     "metadata": {},
     "output_type": "execute_result"
    }
   ],
   "source": [
    "import sklearn as sk\n",
    "import pandas as pd\n",
    "\n",
    "data = pd.read_csv('HistoricalPrices.csv')\n",
    "data.shape"
   ]
  },
  {
   "cell_type": "code",
   "execution_count": 3,
   "metadata": {},
   "outputs": [
    {
     "data": {
      "text/plain": [
       "<bound method NDFrame.describe of         Date      Open      High       Low     Close\n",
       "0   06/17/22  29912.70  30167.52  29653.29  29888.78\n",
       "1   06/16/22  30305.74  30305.74  29740.35  29927.07\n",
       "2   06/15/22  30570.50  31011.97  30185.08  30668.53\n",
       "3   06/14/22  30592.34  30690.80  30144.23  30364.83\n",
       "4   06/13/22  31144.91  31144.91  30373.72  30516.74\n",
       "..       ...       ...       ...       ...       ...\n",
       "58  03/25/22  34702.39  34942.70  34631.52  34861.24\n",
       "59  03/24/22  34406.81  34713.56  34355.42  34707.94\n",
       "60  03/23/22  34748.84  34748.84  34352.96  34358.50\n",
       "61  03/22/22  34583.24  34882.03  34583.24  34807.46\n",
       "62  03/21/22  34669.85  34808.28  34341.81  34552.99\n",
       "\n",
       "[63 rows x 5 columns]>"
      ]
     },
     "execution_count": 3,
     "metadata": {},
     "output_type": "execute_result"
    }
   ],
   "source": [
    "data.describe"
   ]
  }
 ],
 "metadata": {
  "kernelspec": {
   "display_name": "Python 3.8.10 64-bit",
   "language": "python",
   "name": "python3"
  },
  "language_info": {
   "codemirror_mode": {
    "name": "ipython",
    "version": 3
   },
   "file_extension": ".py",
   "mimetype": "text/x-python",
   "name": "python",
   "nbconvert_exporter": "python",
   "pygments_lexer": "ipython3",
   "version": "3.8.10"
  },
  "orig_nbformat": 4,
  "vscode": {
   "interpreter": {
    "hash": "916dbcbb3f70747c44a77c7bcd40155683ae19c65e1c03b4aa3499c5328201f1"
   }
  }
 },
 "nbformat": 4,
 "nbformat_minor": 2
}
